{
 "cells": [
  {
   "cell_type": "markdown",
   "metadata": {},
   "source": [
    "# Semi-Supervised Streams\n",
    "\n",
    "To facilitate reproduction of `moa.tasks.EvaluateInterleavedTestThenTrainSSLDelayed`, \n",
    "we implement a python version of the stream generator. The generator is strictly\n",
    "consistent with the java implementation, and the resulting stream should be identical.\n",
    "\n",
    "`SemisupervisedStream` is compatible with [river](https://riverml.xyz/) and\n",
    "others. Because it simply wraps any `t.Iterable[t.Tuple[dict, t.Any]]`."
   ]
  },
  {
   "cell_type": "code",
   "execution_count": 2,
   "metadata": {},
   "outputs": [
    {
     "name": "stdout",
     "output_type": "stream",
     "text": [
      "{'sepal length (cm)': 5.1, 'sepal width (cm)': 3.5, 'petal length (cm)': 1.4, 'petal width (cm)': 0.2} 0\n",
      "{'sepal length (cm)': 4.9, 'sepal width (cm)': 3.0, 'petal length (cm)': 1.4, 'petal width (cm)': 0.2} 0\n",
      "Warmup period is over\n",
      "{'sepal length (cm)': 4.7, 'sepal width (cm)': 3.2, 'petal length (cm)': 1.3, 'petal width (cm)': 0.2} 0\n",
      "{'sepal length (cm)': 4.6, 'sepal width (cm)': 3.1, 'petal length (cm)': 1.5, 'petal width (cm)': 0.2} None\n",
      "{'sepal length (cm)': 5.0, 'sepal width (cm)': 3.6, 'petal length (cm)': 1.4, 'petal width (cm)': 0.2} None\n",
      "{'sepal length (cm)': 5.4, 'sepal width (cm)': 3.9, 'petal length (cm)': 1.7, 'petal width (cm)': 0.4} None\n",
      "{'sepal length (cm)': 4.6, 'sepal width (cm)': 3.4, 'petal length (cm)': 1.4, 'petal width (cm)': 0.3} 0\n",
      "{'sepal length (cm)': 5.0, 'sepal width (cm)': 3.4, 'petal length (cm)': 1.5, 'petal width (cm)': 0.2} 0\n",
      "{'sepal length (cm)': 4.4, 'sepal width (cm)': 2.9, 'petal length (cm)': 1.4, 'petal width (cm)': 0.2} 0\n",
      "{'sepal length (cm)': 4.9, 'sepal width (cm)': 3.1, 'petal length (cm)': 1.5, 'petal width (cm)': 0.1} None\n",
      "{'sepal length (cm)': 5.4, 'sepal width (cm)': 3.7, 'petal length (cm)': 1.5, 'petal width (cm)': 0.2} None\n",
      "{'sepal length (cm)': 4.8, 'sepal width (cm)': 3.4, 'petal length (cm)': 1.6, 'petal width (cm)': 0.2} None\n",
      "{'sepal length (cm)': 4.8, 'sepal width (cm)': 3.0, 'petal length (cm)': 1.4, 'petal width (cm)': 0.1} 0\n",
      "{'sepal length (cm)': 4.3, 'sepal width (cm)': 3.0, 'petal length (cm)': 1.1, 'petal width (cm)': 0.1} None\n",
      "{'sepal length (cm)': 5.8, 'sepal width (cm)': 4.0, 'petal length (cm)': 1.2, 'petal width (cm)': 0.2} None\n",
      "{'sepal length (cm)': 5.7, 'sepal width (cm)': 4.4, 'petal length (cm)': 1.5, 'petal width (cm)': 0.4} 0\n",
      "{'sepal length (cm)': 5.4, 'sepal width (cm)': 3.9, 'petal length (cm)': 1.3, 'petal width (cm)': 0.4} 0\n",
      "{'sepal length (cm)': 5.1, 'sepal width (cm)': 3.5, 'petal length (cm)': 1.4, 'petal width (cm)': 0.3} 0\n",
      "{'sepal length (cm)': 5.7, 'sepal width (cm)': 3.8, 'petal length (cm)': 1.7, 'petal width (cm)': 0.3} 0\n",
      "{'sepal length (cm)': 5.1, 'sepal width (cm)': 3.8, 'petal length (cm)': 1.5, 'petal width (cm)': 0.3} None\n",
      "{'sepal length (cm)': 5.4, 'sepal width (cm)': 3.4, 'petal length (cm)': 1.7, 'petal width (cm)': 0.2} 0\n",
      "{'sepal length (cm)': 5.1, 'sepal width (cm)': 3.7, 'petal length (cm)': 1.5, 'petal width (cm)': 0.4} 0\n"
     ]
    }
   ],
   "source": [
    "from river import stream\n",
    "from sklearn import datasets\n",
    "from sslstream import SemiSupervisedStream\n",
    "\n",
    "stream = stream.iter_sklearn_dataset(datasets.load_iris())\n",
    "ssl_stream = SemiSupervisedStream(\n",
    "    stream, \n",
    "    label_p=0.5,\n",
    "    seed=42,       \n",
    "    warmup=2,\n",
    "    delay=None\n",
    ")\n",
    "\n",
    "for i, (xi, yi) in enumerate(ssl_stream):\n",
    "    print(xi, yi)\n",
    "    if i+1 == ssl_stream.warmup_length:\n",
    "        print(\"Warmup period is over\")\n",
    "    if i > 20:\n",
    "        break"
   ]
  }
 ],
 "metadata": {
  "kernelspec": {
   "display_name": "Python 3.10.9 64-bit",
   "language": "python",
   "name": "python3"
  },
  "language_info": {
   "codemirror_mode": {
    "name": "ipython",
    "version": 3
   },
   "file_extension": ".py",
   "mimetype": "text/x-python",
   "name": "python",
   "nbconvert_exporter": "python",
   "pygments_lexer": "ipython3",
   "version": "3.10.9"
  },
  "orig_nbformat": 4,
  "vscode": {
   "interpreter": {
    "hash": "e3888b73b259f7d5bccc7dd14a47164f1f8192cddf015f8816ac070d24de17f0"
   }
  }
 },
 "nbformat": 4,
 "nbformat_minor": 2
}
